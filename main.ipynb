{
 "cells": [
  {
   "source": [
    "## 等時マップ"
   ],
   "cell_type": "markdown",
   "metadata": {}
  },
  {
   "cell_type": "code",
   "execution_count": 8,
   "metadata": {},
   "outputs": [],
   "source": [
    "import requests\n",
    "import ipywidgets as widgets\n",
    "from ipywidgets import interact, Select, Layout\n",
    "import json\n",
    "from mapboxgl_notebook.map import MapboxMap\n",
    "from mapboxgl_notebook.sources import GeoJSONSource\n",
    "from mapboxgl_notebook.layers import PointCircleLayer, LineStringLineLayer, PolygonFillLayer\n",
    "from mapboxgl_notebook.properties import Paint\n",
    "from shapely.geometry import LineString\n",
    "import geojson\n",
    "import warnings\n",
    "from bs4 import BeautifulSoup\n",
    "import time\n",
    "from tqdm import tqdm\n",
    "\n",
    "warnings.simplefilter('ignore')"
   ]
  },
  {
   "cell_type": "code",
   "execution_count": 19,
   "metadata": {},
   "outputs": [],
   "source": [
    "def inchrone(address=\"八千代台駅\",ways=\"ぶーぶ\",minute=10):\n",
    "    def get_lat_lon_from_address(address_l):\n",
    "        url = 'http://www.geocoding.jp/api/'\n",
    "        latlons = []\n",
    "        for address in tqdm(address_l):\n",
    "            payload = {'q': address}\n",
    "            r = requests.get(url, params=payload)\n",
    "            ret = BeautifulSoup(r.content,'lxml')\n",
    "            if ret.find('error'):\n",
    "                raise ValueError(f\"Invalid address submitted. {address}\")\n",
    "            else:\n",
    "                lat = ret.find('lat').string\n",
    "                lon = ret.find('lng').string\n",
    "                latlons.append([lat,lon])\n",
    "        return latlons\n",
    "\n",
    "    latlon = get_lat_lon_from_address([address])\n",
    "    latitude = latlon[0][0]\n",
    "    longtitude = latlon[0][1]\n",
    "\n",
    "    if ways == \"ぶーぶ\":\n",
    "        ways = \"driving\"\n",
    "    elif ways == \"チャリ\":\n",
    "        ways = \"cycling\"\n",
    "    elif ways == \"てくてく\":\n",
    "        ways = \"walking\"\n",
    "    minute = str(minute)\n",
    "    geometry = requests.get(\"https://api.mapbox.com/isochrone/v1/mapbox/\"+ways+\"/\"+ longtitude + \",\" + latitude +\"?contours_minutes=\" + minute + \"&polygons=true&access_token=pk.eyJ1IjoiZnJrdzEyMjIiLCJhIjoiY2s4aXlqaW9uMGI2dTNscG1mMDA5eW0wZyJ9.7wGREzjjAHpiRBJyI3jDyg\").json()\n",
    "    source = GeoJSONSource(geometry, source_id='name')\n",
    "    paint = Paint(\n",
    "        fill_color='rgba(254, 202, 68, 0.2)',\n",
    "        fill_outline_color='rgba(0, 0, 0, 1)'\n",
    "    )\n",
    "    layer = PolygonFillLayer(source, paint=paint)\n",
    "    mapbox_map = MapboxMap(\n",
    "        center=[longtitude,latitude],\n",
    "        zoom=13,\n",
    "        access_token=\"pk.eyJ1IjoiZnJrdzEyMjIiLCJhIjoiY2s4aXlqaW9uMGI2dTNscG1mMDA5eW0wZyJ9.7wGREzjjAHpiRBJyI3jDyg\",\n",
    "        sources=[source],\n",
    "        layers=[layer],\n",
    "        style=\"mapbox://styles/frkw1222/cke9pbiak0zgr1apadswmw9az\"\n",
    "    )\n",
    "    mapbox_map.show()"
   ]
  },
  {
   "cell_type": "code",
   "execution_count": 20,
   "metadata": {},
   "outputs": [
    {
     "output_type": "display_data",
     "data": {
      "text/plain": "interactive(children=(Text(value='八千代台駅', description='どこから行くの？\\u3000:', layout=Layout(width='80%'), placehold…",
      "application/vnd.jupyter.widget-view+json": {
       "version_major": 2,
       "version_minor": 0,
       "model_id": "c604cd523daa48fd9dc724c5c7e125d2"
      }
     },
     "metadata": {}
    },
    {
     "output_type": "execute_result",
     "data": {
      "text/plain": [
       "<function __main__.inchrone(address='八千代台駅', ways='ぶーぶ', minute=10)>"
      ]
     },
     "metadata": {},
     "execution_count": 20
    }
   ],
   "source": [
    "style = {'description_width': '200px'}\n",
    "address = widgets.Text(\n",
    "    value='八千代台駅',\n",
    "    style=style,\n",
    "    placeholder='なんか入れろや',\n",
    "    description='どこから行くの？　:',\n",
    "    disabled=False,\n",
    "    layout=Layout(width='80%')\n",
    ")\n",
    "ways = Select(description='何で行くの？　:', options=[\"ぶーぶ\",\"チャリ\",\"てくてく\"], rows=3,style=style,)\n",
    "minute = widgets.Text(\n",
    "    value='10',\n",
    "    style=style,\n",
    "    placeholder='なんか入れろたほうが身のためやで',\n",
    "    description='何分で行くの？ :',\n",
    "    disabled=False,\n",
    "    layout=Layout(width='80%')\n",
    ")\n",
    "interact(inchrone, address=address, ways=ways, minute=minute)"
   ]
  },
  {
   "cell_type": "code",
   "execution_count": null,
   "metadata": {},
   "outputs": [],
   "source": []
  }
 ],
 "metadata": {
  "kernelspec": {
   "display_name": "Python 3",
   "language": "python",
   "name": "python3"
  },
  "language_info": {
   "codemirror_mode": {
    "name": "ipython",
    "version": 3
   },
   "file_extension": ".py",
   "mimetype": "text/x-python",
   "name": "python",
   "nbconvert_exporter": "python",
   "pygments_lexer": "ipython3",
   "version": "3.8.1-final"
  }
 },
 "nbformat": 4,
 "nbformat_minor": 2
}